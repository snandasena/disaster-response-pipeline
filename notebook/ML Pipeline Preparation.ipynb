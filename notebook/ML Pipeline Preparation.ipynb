{
 "cells": [
  {
   "cell_type": "markdown",
   "metadata": {},
   "source": [
    "# ML Pipeline Preparation\n",
    "Follow the instructions below to help you create your ML pipeline.\n",
    "### 1. Import libraries and load data from database.\n",
    "- Import Python libraries\n",
    "- Load dataset from database with [`read_sql_table`](https://pandas.pydata.org/pandas-docs/stable/generated/pandas.read_sql_table.html)\n",
    "- Define feature and target variables X and Y"
   ]
  },
  {
   "cell_type": "code",
   "execution_count": 1,
   "metadata": {},
   "outputs": [],
   "source": [
    "# import libraries\n",
    "import pandas as pd\n",
    "import numpy as np\n",
    "from sqlalchemy import create_engine\n",
    "import re\n",
    "import nltk\n",
    "from sklearn.pipeline import Pipeline, FeatureUnion\n",
    "from nltk.corpus import stopwords\n",
    "from nltk.stem.wordnet import WordNetLemmatizer\n",
    "from nltk.tokenize import word_tokenize\n",
    "from sklearn.multioutput import MultiOutputClassifier\n",
    "from sklearn.neighbors import KNeighborsClassifier\n",
    "from sklearn.feature_extraction.text import CountVectorizer, TfidfTransformer\n",
    "from sklearn.model_selection import train_test_split\n",
    "from sklearn.metrics import confusion_matrix\n",
    "from sklearn.model_selection import GridSearchCV\n",
    "from sklearn.ensemble import RandomForestClassifier\n",
    "from sklearn.multiclass import OneVsRestClassifier\n",
    "from sklearn.linear_model import SGDClassifier\n",
    "from sklearn.naive_bayes import MultinomialNB\n",
    "from sklearn.linear_model import LogisticRegression\n",
    "from sklearn.naive_bayes import GaussianNB\n",
    "from sklearn.metrics import accuracy_score\n",
    "from sklearn.base import BaseEstimator, TransformerMixin\n",
    "from sklearn.metrics import classification_report\n",
    "import pickle\n",
    "import matplotlib.pyplot as plt"
   ]
  },
  {
   "cell_type": "code",
   "execution_count": 2,
   "metadata": {},
   "outputs": [
    {
     "name": "stderr",
     "output_type": "stream",
     "text": [
      "[nltk_data] Downloading package stopwords to /home/sajith/nltk_data...\n",
      "[nltk_data]   Package stopwords is already up-to-date!\n",
      "[nltk_data] Downloading package wordnet to /home/sajith/nltk_data...\n",
      "[nltk_data]   Package wordnet is already up-to-date!\n",
      "[nltk_data] Downloading package punkt to /home/sajith/nltk_data...\n",
      "[nltk_data]   Package punkt is already up-to-date!\n"
     ]
    },
    {
     "data": {
      "text/plain": [
       "True"
      ]
     },
     "execution_count": 2,
     "metadata": {},
     "output_type": "execute_result"
    }
   ],
   "source": [
    "nltk.download('stopwords')\n",
    "nltk.download('wordnet')\n",
    "nltk.download('punkt')"
   ]
  },
  {
   "cell_type": "code",
   "execution_count": 3,
   "metadata": {},
   "outputs": [],
   "source": [
    "# load data from database\n",
    "engine = create_engine('sqlite:///InsertDatabaseName.db')\n",
    "df = pd.read_sql(\"select * from InsertTableName\", engine)"
   ]
  },
  {
   "cell_type": "code",
   "execution_count": 4,
   "metadata": {},
   "outputs": [
    {
     "data": {
      "text/plain": [
       "news      13054\n",
       "direct    10766\n",
       "social     2396\n",
       "Name: genre, dtype: int64"
      ]
     },
     "execution_count": 4,
     "metadata": {},
     "output_type": "execute_result"
    }
   ],
   "source": [
    "df['genre'].value_counts()"
   ]
  },
  {
   "cell_type": "code",
   "execution_count": 5,
   "metadata": {},
   "outputs": [
    {
     "data": {
      "text/plain": [
       "id                         True\n",
       "message                   False\n",
       "original                   True\n",
       "genre                     False\n",
       "related                    True\n",
       "request                   False\n",
       "offer                     False\n",
       "aid_related               False\n",
       "medical_help              False\n",
       "medical_products          False\n",
       "search_and_rescue         False\n",
       "security                  False\n",
       "military                  False\n",
       "child_alone               False\n",
       "water                     False\n",
       "food                      False\n",
       "shelter                   False\n",
       "clothing                  False\n",
       "money                     False\n",
       "missing_people            False\n",
       "refugees                  False\n",
       "death                     False\n",
       "other_aid                 False\n",
       "infrastructure_related    False\n",
       "transport                 False\n",
       "buildings                 False\n",
       "electricity               False\n",
       "tools                     False\n",
       "hospitals                 False\n",
       "shops                     False\n",
       "aid_centers               False\n",
       "other_infrastructure      False\n",
       "weather_related           False\n",
       "floods                    False\n",
       "storm                     False\n",
       "fire                      False\n",
       "earthquake                False\n",
       "cold                      False\n",
       "other_weather             False\n",
       "direct_report             False\n",
       "dtype: bool"
      ]
     },
     "execution_count": 5,
     "metadata": {},
     "output_type": "execute_result"
    }
   ],
   "source": [
    "df.isna().any()"
   ]
  },
  {
   "cell_type": "code",
   "execution_count": 6,
   "metadata": {},
   "outputs": [],
   "source": [
    "df = df.dropna(subset=['related'], axis=0)"
   ]
  },
  {
   "cell_type": "code",
   "execution_count": 7,
   "metadata": {},
   "outputs": [
    {
     "data": {
      "text/plain": [
       "id                         True\n",
       "message                   False\n",
       "original                   True\n",
       "genre                     False\n",
       "related                   False\n",
       "request                   False\n",
       "offer                     False\n",
       "aid_related               False\n",
       "medical_help              False\n",
       "medical_products          False\n",
       "search_and_rescue         False\n",
       "security                  False\n",
       "military                  False\n",
       "child_alone               False\n",
       "water                     False\n",
       "food                      False\n",
       "shelter                   False\n",
       "clothing                  False\n",
       "money                     False\n",
       "missing_people            False\n",
       "refugees                  False\n",
       "death                     False\n",
       "other_aid                 False\n",
       "infrastructure_related    False\n",
       "transport                 False\n",
       "buildings                 False\n",
       "electricity               False\n",
       "tools                     False\n",
       "hospitals                 False\n",
       "shops                     False\n",
       "aid_centers               False\n",
       "other_infrastructure      False\n",
       "weather_related           False\n",
       "floods                    False\n",
       "storm                     False\n",
       "fire                      False\n",
       "earthquake                False\n",
       "cold                      False\n",
       "other_weather             False\n",
       "direct_report             False\n",
       "dtype: bool"
      ]
     },
     "execution_count": 7,
     "metadata": {},
     "output_type": "execute_result"
    }
   ],
   "source": [
    "df.isna().any()"
   ]
  },
  {
   "cell_type": "code",
   "execution_count": 8,
   "metadata": {
    "scrolled": true
   },
   "outputs": [],
   "source": [
    "# X = df.iloc[:,2]\n",
    "# Y = df.iloc[:,4:]"
   ]
  },
  {
   "cell_type": "code",
   "execution_count": 9,
   "metadata": {},
   "outputs": [],
   "source": [
    "X = df.loc[:, 'message']\n",
    "Y = df.iloc[:, 4:]"
   ]
  },
  {
   "cell_type": "code",
   "execution_count": 10,
   "metadata": {},
   "outputs": [
    {
     "data": {
      "text/plain": [
       "array(['Weather update - a cold front from Cuba that could pass over Haiti',\n",
       "       'Is the Hurricane over or is it not over',\n",
       "       'Looking for someone but no name', ...,\n",
       "       \"Proshika, operating in Cox's Bazar municipality and 5 other unions, Ramu and Chokoria, assessment, 5 kg rice, 1,5 kg lentils to 700 families.\",\n",
       "       'Some 2,000 women protesting against the conduct of the elections were teargassed as they tried to converge on the local electoral commission offices in the southern oil city of Port Harcourt.',\n",
       "       'A radical shift in thinking came about as a result of this meeting, recognizing that HIV/AIDS is at the core of the humanitarian crisis and identifying the crisis itself as a function of the HIV/AIDS pandemic.'],\n",
       "      dtype=object)"
      ]
     },
     "execution_count": 10,
     "metadata": {},
     "output_type": "execute_result"
    }
   ],
   "source": [
    "X.values"
   ]
  },
  {
   "cell_type": "code",
   "execution_count": 11,
   "metadata": {},
   "outputs": [
    {
     "ename": "SyntaxError",
     "evalue": "invalid syntax (<ipython-input-11-5872fdce02a3>, line 1)",
     "output_type": "error",
     "traceback": [
      "\u001b[0;36m  File \u001b[0;32m\"<ipython-input-11-5872fdce02a3>\"\u001b[0;36m, line \u001b[0;32m1\u001b[0m\n\u001b[0;31m    for text in X.values:.str.split().apply(len).value_counts()\u001b[0m\n\u001b[0m                         ^\u001b[0m\n\u001b[0;31mSyntaxError\u001b[0m\u001b[0;31m:\u001b[0m invalid syntax\n"
     ]
    }
   ],
   "source": [
    "for text in X.values:.str.split().apply(len).value_counts()\n",
    "    print(text)"
   ]
  },
  {
   "cell_type": "code",
   "execution_count": 12,
   "metadata": {},
   "outputs": [
    {
     "data": {
      "text/plain": [
       "<matplotlib.image.AxesImage at 0x7f1209c03fd0>"
      ]
     },
     "execution_count": 12,
     "metadata": {},
     "output_type": "execute_result"
    },
    {
     "data": {
      "image/png": "[encoded data removed]",
      "text/plain": [
       "<Figure size 288x288 with 1 Axes>"
      ]
     },
     "metadata": {
      "needs_background": "light"
     },
     "output_type": "display_data"
    }
   ],
   "source": [
    "plt.matshow(Y.corr())"
   ]
  },
  {
   "cell_type": "code",
   "execution_count": 13,
   "metadata": {},
   "outputs": [],
   "source": [
    "Y['request'] = Y['request'].astype('int')"
   ]
  },
  {
   "cell_type": "markdown",
   "metadata": {},
   "source": [
    "### 2. Write a tokenization function to process your text data"
   ]
  },
  {
   "cell_type": "code",
   "execution_count": 20,
   "metadata": {},
   "outputs": [],
   "source": [
    "stop_words = stopwords.words('english')\n",
    "lemmatizer = WordNetLemmatizer()\n",
    "url_regex = r'http[s]?://(?:[a-zA-Z]|[0-9]|[$-_@.&+]|[!*\\(\\),]|(?:%[0-9a-fA-F][0-9a-fA-F]))+'\n"
   ]
  },
  {
   "cell_type": "code",
   "execution_count": 21,
   "metadata": {},
   "outputs": [],
   "source": [
    "# starting verbs extractor\n",
    "class StartingVerbExtractor(BaseEstimator, TransformerMixin):\n",
    "\n",
    "    @staticmethod\n",
    "    def starting_verb(text):\n",
    "        sentence_list = nltk.sent_tokenize(text)\n",
    "        for sentence in sentence_list:\n",
    "            pos_tags = nltk.pos_tag(tokenize_text(sentence))\n",
    "            if len(pos_tags) != 0:\n",
    "                first_word, first_tag = pos_tags[0]\n",
    "                if first_tag in ['VB', 'VBP']:\n",
    "                    return True\n",
    "        return False\n",
    "\n",
    "    def fit(self, x, y=None):\n",
    "        return self\n",
    "\n",
    "    def transform(self, X):\n",
    "        X_tagged = pd.Series(X).apply(self.starting_verb)\n",
    "        return pd.DataFrame(X_tagged)\n",
    "\n",
    "\n",
    "class VerbCountExtractor(BaseEstimator, TransformerMixin):\n",
    "\n",
    "    @staticmethod\n",
    "    def count_verbs(text):\n",
    "        total_verbs = 0\n",
    "        pos_tags = nltk.pos_tag(tokenize_text(text))\n",
    "        for word, tag in pos_tags:\n",
    "            if tag in ['VB', 'VBP', 'VBD']:\n",
    "                total_verbs = total_verbs + 1\n",
    "\n",
    "        return total_verbs\n",
    "\n",
    "    def fit(self, x, y=None):\n",
    "        return self\n",
    "\n",
    "    def transform(self, X):\n",
    "        X_tagged = pd.Series(X).apply(self.count_verbs)\n",
    "        return pd.DataFrame(X_tagged)\n",
    "\n",
    "\n",
    "class NounCountExtractor(BaseEstimator, TransformerMixin):\n",
    "    @staticmethod\n",
    "    def count_nouns(text):\n",
    "        total_nouns = 0\n",
    "        pos_tags = nltk.pos_tag(tokenize_text(text))\n",
    "        for word, tag in pos_tags:\n",
    "            if tag in ['NN', 'NNS', 'NNPS', 'NNP']:\n",
    "                total_nouns = total_nouns + 1\n",
    "\n",
    "        return total_nouns\n",
    "\n",
    "    def fit(self, x, y=None):\n",
    "        return self\n",
    "\n",
    "    def transform(self, X):\n",
    "        X_tagged = pd.Series(X).apply(self.count_nouns)\n",
    "        return pd.DataFrame(X_tagged)\n",
    "\n",
    "\n",
    "class StartingModalExtractor(BaseEstimator, TransformerMixin):\n",
    "    @staticmethod\n",
    "    def starting_modals(text):\n",
    "        sentence_list = nltk.sent_tokenize(text)\n",
    "        for sentence in sentence_list:\n",
    "            pos_tags = nltk.pos_tag(tokenize_text(sentence))\n",
    "            if len(pos_tags) != 0:\n",
    "                first_word, first_tag = pos_tags[0]\n",
    "                if first_tag == 'MD':\n",
    "                    return True\n",
    "        return False\n",
    "\n",
    "    def fit(self, x, y=None):\n",
    "        return self\n",
    "\n",
    "    def transform(self, X):\n",
    "        X_tagged = pd.Series(X).apply(self.starting_modals)\n",
    "        return pd.DataFrame(X_tagged)\n"
   ]
  },
  {
   "cell_type": "code",
   "execution_count": 22,
   "metadata": {},
   "outputs": [],
   "source": [
    "def tokenize_text(text):\n",
    "    \"\"\"\n",
    "        Apply case normalization, lemmatize and tokenize text.\n",
    "\n",
    "        INPUT:\n",
    "            text -- text in source format\n",
    "        OUTPUT:\n",
    "            clean_tokens -- cleaned tokenized list\n",
    "    \"\"\"\n",
    "\n",
    "    # transform to lower case\n",
    "    text = text.lower()\n",
    "    # remove urls\n",
    "    text = re.sub(url_regex, \" \", text)\n",
    "    # remove punctuations\n",
    "    text = re.sub(r\"[^A-Za-z0-9]+\", \" \", text)\n",
    "    # remove numbers\n",
    "    text = re.sub(r\"\\d+\", \" \", text)\n",
    "    # tokenize for words\n",
    "    words = word_tokenize(text)\n",
    "    # Remove stop words\n",
    "    tokens = [w for w in words if w not in stopwords.words(\"english\")]\n",
    "    # lemmatize the tokens\n",
    "    clean_tokens = list(map(lambda token: lemmatizer.lemmatize(token).strip(), tokens))\n",
    "    return clean_tokens\n"
   ]
  },
  {
   "cell_type": "markdown",
   "metadata": {},
   "source": [
    "### 3. Build a machine learning pipeline\n",
    "This machine pipeline should take in the `message` column as input and output classification results on the other 36 categories in the dataset. You may find the [MultiOutputClassifier](http://scikit-learn.org/stable/modules/generated/sklearn.multioutput.MultiOutputClassifier.html) helpful for predicting multiple target variables."
   ]
  },
  {
   "cell_type": "code",
   "execution_count": 23,
   "metadata": {},
   "outputs": [],
   "source": [
    "def build_pipeline(estimator):\n",
    "    \"\"\"\n",
    "    This separate function can be used to test with multiple estimators.\n",
    "    INPUT:\n",
    "        estimator - An estimator that is used to build `sklearn.pipeline` Pipeline\n",
    "\n",
    "    OUTPUT:\n",
    "        pipeline - `sklearn.pipeline` with a estimator and multiple features.\n",
    "    \"\"\"\n",
    "\n",
    "    # define pipeline\n",
    "    pipeline = Pipeline([\n",
    "        ('features', FeatureUnion([\n",
    "            ('text_pipeline', Pipeline([\n",
    "                ('vect', CountVectorizer(tokenizer=tokenize_text)),\n",
    "                ('tfidf', TfidfTransformer())\n",
    "            ])),\n",
    "            ('starting_verb_noun', StartingVerbExtractor()),\n",
    "            ('count_verbs', VerbCountExtractor()),\n",
    "            ('count_nouns', NounCountExtractor()),\n",
    "            ('starting_modals', StartingModalExtractor())\n",
    "        ])),\n",
    "\n",
    "        ('clf', estimator)\n",
    "    ])\n",
    "\n",
    "    return pipeline"
   ]
  },
  {
   "cell_type": "markdown",
   "metadata": {},
   "source": [
    "### 4. Train pipeline\n",
    "- Split data into train and test sets\n",
    "- Train pipeline"
   ]
  },
  {
   "cell_type": "code",
   "execution_count": 24,
   "metadata": {},
   "outputs": [],
   "source": [
    "X_train, X_test, Y_train, Y_test = train_test_split(X, Y,test_size = 0.2, random_state = 0)"
   ]
  },
  {
   "cell_type": "code",
   "execution_count": 25,
   "metadata": {},
   "outputs": [],
   "source": [
    "multi_label_estimators = []\n",
    "multi_label_estimator1 = MultiOutputClassifier(OneVsRestClassifier(SGDClassifier(loss='modified_huber', penalty='elasticnet',\n",
    "                                          alpha=1e-4,  random_state=42,\n",
    "                                          shuffle=True, n_jobs=5)))\n",
    "multi_label_estimators.append(multi_label_estimator1)\n",
    "\n",
    "multi_label_estimator2 = MultiOutputClassifier(OneVsRestClassifier(MultinomialNB()))\n",
    "multi_label_estimators.append(multi_label_estimator2)\n",
    "\n",
    "multi_label_estimator3 = MultiOutputClassifier(OneVsRestClassifier(LogisticRegression(solver='sag'), n_jobs=5))\n",
    "multi_label_estimators.append(multi_label_estimator3)\n",
    "\n",
    "multi_label_estimator4 = MultiOutputClassifier(OneVsRestClassifier(RandomForestClassifier(n_jobs = 5)))\n",
    "multi_label_estimators.append(multi_label_estimator4)"
   ]
  },
  {
   "cell_type": "markdown",
   "metadata": {},
   "source": [
    "### 5. Test your model\n",
    "Report the f1 score, precision and recall for each output category of the dataset. You can do this by iterating through the columns and calling sklearn's `classification_report` on each."
   ]
  },
  {
   "cell_type": "code",
   "execution_count": null,
   "metadata": {
    "scrolled": true
   },
   "outputs": [],
   "source": [
    "for i , estimator in enumerate(multi_label_estimators):\n",
    "    pipeline = build_pipeline(estimator)\n",
    "    pipeline.fit(X_train, Y_train)\n",
    "    prediction = pipeline.predict(X_test)\n",
    "    print(classification_report(Y_test, prediction, target_names=Y.columns.values))"
   ]
  },
  {
   "cell_type": "code",
   "execution_count": 26,
   "metadata": {},
   "outputs": [],
   "source": [
    "estimator = MultiOutputClassifier(OneVsRestClassifier(RandomForestClassifier(n_jobs = 5)))\n",
    "pipeline = build_pipeline(estimator)"
   ]
  },
  {
   "cell_type": "code",
   "execution_count": 27,
   "metadata": {},
   "outputs": [
    {
     "name": "stderr",
     "output_type": "stream",
     "text": [
      "/home/sajith/Documents/Acedamic/Projects/Python3.6/lib/python3.6/site-packages/sklearn/multiclass.py:75: UserWarning: Label not 0.0 is present in all training examples.\n",
      "  str(classes[c]))\n"
     ]
    },
    {
     "data": {
      "text/plain": [
       "Pipeline(memory=None,\n",
       "         steps=[('features',\n",
       "                 FeatureUnion(n_jobs=None,\n",
       "                              transformer_list=[('text_pipeline',\n",
       "                                                 Pipeline(memory=None,\n",
       "                                                          steps=[('vect',\n",
       "                                                                  CountVectorizer(analyzer='word',\n",
       "                                                                                  binary=False,\n",
       "                                                                                  decode_error='strict',\n",
       "                                                                                  dtype=<class 'numpy.int64'>,\n",
       "                                                                                  encoding='utf-8',\n",
       "                                                                                  input='content',\n",
       "                                                                                  lowercase=True,\n",
       "                                                                                  max_df=1.0,\n",
       "                                                                                  max_features=None,\n",
       "                                                                                  min_df=1,\n",
       "                                                                                  ngram_range=(1,\n",
       "                                                                                               1),\n",
       "                                                                                  preprocessor=Non...\n",
       "                                                                                                      class_weight=None,\n",
       "                                                                                                      criterion='gini',\n",
       "                                                                                                      max_depth=None,\n",
       "                                                                                                      max_features='auto',\n",
       "                                                                                                      max_leaf_nodes=None,\n",
       "                                                                                                      max_samples=None,\n",
       "                                                                                                      min_impurity_decrease=0.0,\n",
       "                                                                                                      min_impurity_split=None,\n",
       "                                                                                                      min_samples_leaf=1,\n",
       "                                                                                                      min_samples_split=2,\n",
       "                                                                                                      min_weight_fraction_leaf=0.0,\n",
       "                                                                                                      n_estimators=100,\n",
       "                                                                                                      n_jobs=5,\n",
       "                                                                                                      oob_score=False,\n",
       "                                                                                                      random_state=None,\n",
       "                                                                                                      verbose=0,\n",
       "                                                                                                      warm_start=False),\n",
       "                                                                     n_jobs=None),\n",
       "                                       n_jobs=None))],\n",
       "         verbose=False)"
      ]
     },
     "execution_count": 27,
     "metadata": {},
     "output_type": "execute_result"
    }
   ],
   "source": [
    "pipeline.fit(X_train, Y_train)"
   ]
  },
  {
   "cell_type": "code",
   "execution_count": 28,
   "metadata": {},
   "outputs": [],
   "source": [
    "prediction = pipeline.predict(X_test)"
   ]
  },
  {
   "cell_type": "code",
   "execution_count": 29,
   "metadata": {},
   "outputs": [
    {
     "name": "stdout",
     "output_type": "stream",
     "text": [
      "                        precision    recall  f1-score   support\n",
      "\n",
      "               related       0.83      0.96      0.89      3983\n",
      "               request       0.86      0.51      0.64       931\n",
      "                 offer       0.00      0.00      0.00        20\n",
      "           aid_related       0.77      0.70      0.73      2226\n",
      "          medical_help       0.74      0.06      0.12       447\n",
      "      medical_products       0.75      0.12      0.20       284\n",
      "     search_and_rescue       0.62      0.05      0.09       170\n",
      "              security       0.50      0.01      0.02       104\n",
      "              military       0.86      0.06      0.12       189\n",
      "           child_alone       0.00      0.00      0.00         0\n",
      "                 water       0.91      0.37      0.52       371\n",
      "                  food       0.84      0.63      0.72       597\n",
      "               shelter       0.80      0.42      0.55       477\n",
      "              clothing       0.82      0.12      0.20        77\n",
      "                 money       0.67      0.02      0.03       112\n",
      "        missing_people       0.00      0.00      0.00        68\n",
      "              refugees       0.20      0.01      0.02       167\n",
      "                 death       0.85      0.16      0.27       245\n",
      "             other_aid       0.79      0.04      0.07       715\n",
      "infrastructure_related       1.00      0.01      0.01       343\n",
      "             transport       0.78      0.07      0.13       247\n",
      "             buildings       0.87      0.13      0.23       258\n",
      "           electricity       1.00      0.02      0.04       103\n",
      "                 tools       0.00      0.00      0.00        36\n",
      "             hospitals       0.00      0.00      0.00        57\n",
      "                 shops       0.00      0.00      0.00        18\n",
      "           aid_centers       0.00      0.00      0.00        67\n",
      "  other_infrastructure       0.00      0.00      0.00       229\n",
      "       weather_related       0.86      0.69      0.76      1489\n",
      "                floods       0.95      0.38      0.54       434\n",
      "                 storm       0.76      0.48      0.59       505\n",
      "                  fire       1.00      0.04      0.07        56\n",
      "            earthquake       0.89      0.82      0.85       509\n",
      "                  cold       0.58      0.07      0.12       107\n",
      "         other_weather       0.56      0.03      0.06       277\n",
      "         direct_report       0.79      0.38      0.51      1029\n",
      "\n",
      "             micro avg       0.82      0.53      0.65     16947\n",
      "             macro avg       0.61      0.20      0.25     16947\n",
      "          weighted avg       0.79      0.53      0.57     16947\n",
      "           samples avg       0.68      0.49      0.52     16947\n",
      "\n"
     ]
    },
    {
     "name": "stderr",
     "output_type": "stream",
     "text": [
      "/home/sajith/Documents/Acedamic/Projects/Python3.6/lib/python3.6/site-packages/sklearn/metrics/_classification.py:1272: UndefinedMetricWarning: Precision and F-score are ill-defined and being set to 0.0 in labels with no predicted samples. Use `zero_division` parameter to control this behavior.\n",
      "  _warn_prf(average, modifier, msg_start, len(result))\n",
      "/home/sajith/Documents/Acedamic/Projects/Python3.6/lib/python3.6/site-packages/sklearn/metrics/_classification.py:1272: UndefinedMetricWarning: Recall and F-score are ill-defined and being set to 0.0 in labels with no true samples. Use `zero_division` parameter to control this behavior.\n",
      "  _warn_prf(average, modifier, msg_start, len(result))\n",
      "/home/sajith/Documents/Acedamic/Projects/Python3.6/lib/python3.6/site-packages/sklearn/metrics/_classification.py:1272: UndefinedMetricWarning: Precision and F-score are ill-defined and being set to 0.0 in samples with no predicted labels. Use `zero_division` parameter to control this behavior.\n",
      "  _warn_prf(average, modifier, msg_start, len(result))\n",
      "/home/sajith/Documents/Acedamic/Projects/Python3.6/lib/python3.6/site-packages/sklearn/metrics/_classification.py:1272: UndefinedMetricWarning: Recall and F-score are ill-defined and being set to 0.0 in samples with no true labels. Use `zero_division` parameter to control this behavior.\n",
      "  _warn_prf(average, modifier, msg_start, len(result))\n"
     ]
    }
   ],
   "source": [
    "print(classification_report(Y_test, prediction, target_names=Y.columns.values))"
   ]
  },
  {
   "cell_type": "code",
   "execution_count": null,
   "metadata": {},
   "outputs": [],
   "source": [
    "pickle.dump(pipeline, open('classifier.pkl', 'wb'))"
   ]
  },
  {
   "cell_type": "code",
   "execution_count": null,
   "metadata": {
    "scrolled": false
   },
   "outputs": [],
   "source": [
    "estimator.get_params()"
   ]
  },
  {
   "cell_type": "markdown",
   "metadata": {},
   "source": [
    "### 6. Improve your model\n",
    "Use grid search to find better parameters. "
   ]
  },
  {
   "cell_type": "code",
   "execution_count": null,
   "metadata": {},
   "outputs": [],
   "source": [
    "parameters = {\n",
    "        'features__text_pipeline__vect__ngram_range': ((1, 1), (1, 2)),\n",
    "        'features__text_pipeline__vect__max_df': (0.5, 0.75, 1.0),\n",
    "        'features__text_pipeline__vect__max_features': (None, 10, 100),\n",
    "        'features__text_pipeline__tfidf__use_idf': (True, False),\n",
    "        'clf__estimator__estimator__n_estimators': [100, 200, 1000],\n",
    "        'clf__estimator__estimator__min_samples_split': [2, 3, 4],\n",
    "        'features__transformer_weights': (\n",
    "            {'text_pipeline': 1, 'starting_verb': 0.5},\n",
    "            {'text_pipeline': 0.5, 'starting_verb': 1},\n",
    "            {'text_pipeline': 0.8, 'starting_verb': 1},\n",
    "        )\n",
    "    }\n",
    "cv = GridSearchCV(pipeline, param_grid = parameters)"
   ]
  },
  {
   "cell_type": "code",
   "execution_count": null,
   "metadata": {},
   "outputs": [],
   "source": [
    "cv.fit(X_train,Y_train)"
   ]
  },
  {
   "cell_type": "markdown",
   "metadata": {},
   "source": [
    "### 7. Test your model\n",
    "Show the accuracy, precision, and recall of the tuned model.  \n",
    "\n",
    "Since this project focuses on code quality, process, and  pipelines, there is no minimum performance metric needed to pass. However, make sure to fine tune your models for accuracy, precision and recall to make your project stand out - especially for your portfolio!"
   ]
  },
  {
   "cell_type": "code",
   "execution_count": null,
   "metadata": {},
   "outputs": [],
   "source": []
  },
  {
   "cell_type": "markdown",
   "metadata": {},
   "source": [
    "### 8. Try improving your model further. Here are a few ideas:\n",
    "* try other machine learning algorithms\n",
    "* add other features besides the TF-IDF"
   ]
  },
  {
   "cell_type": "code",
   "execution_count": null,
   "metadata": {},
   "outputs": [],
   "source": []
  },
  {
   "cell_type": "markdown",
   "metadata": {},
   "source": [
    "### 9. Export your model as a pickle file"
   ]
  },
  {
   "cell_type": "code",
   "execution_count": null,
   "metadata": {},
   "outputs": [],
   "source": []
  },
  {
   "cell_type": "markdown",
   "metadata": {},
   "source": [
    "### 10. Use this notebook to complete `train.py`\n",
    "Use the template file attached in the Resources folder to write a script that runs the steps above to create a database and export a model based on a new dataset specified by the user."
   ]
  },
  {
   "cell_type": "code",
   "execution_count": null,
   "metadata": {},
   "outputs": [],
   "source": []
  }
 ],
 "metadata": {
  "kernelspec": {
   "display_name": "Python 3",
   "language": "python",
   "name": "python3"
  },
  "language_info": {
   "codemirror_mode": {
    "name": "ipython",
    "version": 3
   },
   "file_extension": ".py",
   "mimetype": "text/x-python",
   "name": "python",
   "nbconvert_exporter": "python",
   "pygments_lexer": "ipython3",
   "version": "3.6.8"
  }
 },
 "nbformat": 4,
 "nbformat_minor": 2
}
